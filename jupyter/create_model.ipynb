{
 "cells": [
  {
   "cell_type": "code",
   "execution_count": 59,
   "id": "09975b0e-d478-4eb4-9710-643383cbee03",
   "metadata": {},
   "outputs": [],
   "source": [
    "import os\n",
    "from tensorflow.keras.models import Sequential\n",
    "from tensorflow.keras.layers import Dense, BatchNormalization, LayerNormalization, Dropout\n",
    "from sklearn.model_selection import train_test_split\n",
    "from sklearn.preprocessing import StandardScaler\n",
    "from tensorflow.keras.optimizers import Adam\n",
    "from tensorflow.keras.callbacks import EarlyStopping\n",
    "import pandas as pd\n",
    "import numpy as np\n",
    "from sklearn.metrics import confusion_matrix, classification_report, roc_auc_score, accuracy_score\n",
    "import random\n",
    "import tensorflow as tf"
   ]
  },
  {
   "cell_type": "code",
   "execution_count": 60,
   "id": "7ab0c70b-d7f2-4234-ab3c-2d43d7fb7943",
   "metadata": {},
   "outputs": [],
   "source": [
    "np.random.seed(0)\n",
    "random.seed(0)\n",
    "tf.random.set_seed(0)"
   ]
  },
  {
   "cell_type": "code",
   "execution_count": 7,
   "id": "02007011-e047-452d-9d3e-afde81b630ef",
   "metadata": {},
   "outputs": [],
   "source": [
    "scaler = StandardScaler()"
   ]
  },
  {
   "cell_type": "code",
   "execution_count": 18,
   "id": "70cdd98e-e3e7-42d4-9ac6-ffdd0b814699",
   "metadata": {},
   "outputs": [],
   "source": [
    "df = pd.read_csv('./proccessed_train_data.csv')"
   ]
  },
  {
   "cell_type": "code",
   "execution_count": 19,
   "id": "5f515803-d914-438a-90a9-aeb4fbf2555f",
   "metadata": {},
   "outputs": [],
   "source": [
    "X = df.drop('Transported', axis=1)\n",
    "y = df.Transported"
   ]
  },
  {
   "cell_type": "code",
   "execution_count": 20,
   "id": "52ce0185-576e-4f86-a6cf-a93de319d4cf",
   "metadata": {},
   "outputs": [],
   "source": [
    "X_train, X_test, y_train, y_test = train_test_split(X,y,test_size=0.1,random_state=0)"
   ]
  },
  {
   "cell_type": "code",
   "execution_count": 22,
   "id": "90ea4dac-c8bd-498b-8eae-ce376fba1fb5",
   "metadata": {},
   "outputs": [],
   "source": [
    "X_train = scaler.fit_transform(X_train)\n",
    "X_test = scaler.transform(X_test)"
   ]
  },
  {
   "cell_type": "code",
   "execution_count": 23,
   "id": "991d5b77-c479-497f-a198-2113da60c596",
   "metadata": {},
   "outputs": [],
   "source": [
    "scaler = StandardScaler()\n",
    "X_train, X_test, y_train, y_test = train_test_split(X,y,test_size=0.1, random_state=0)\n",
    "X_train = scaler.fit_transform(X_train)\n",
    "X_test = scaler.transform(X_test)"
   ]
  },
  {
   "cell_type": "code",
   "execution_count": 175,
   "id": "900e4b6e-96d1-4d3b-99ae-b2080fa8ed77",
   "metadata": {},
   "outputs": [],
   "source": [
    "model = Sequential()"
   ]
  },
  {
   "cell_type": "code",
   "execution_count": 187,
   "id": "c0f717e2-c060-445e-8479-0a7c656269e5",
   "metadata": {},
   "outputs": [],
   "source": [
    "model.add(Dense(64, activation='relu', input_shape=(25,), kernel_initializer=tf.keras.initializers.glorot_uniform(seed=2)))  # 30 dimensions\n",
    "model.add(BatchNormalization())\n",
    "model.add(Dropout(0.2))\n",
    "model.add(Dense(32, activation='relu', kernel_initializer=tf.keras.initializers.glorot_uniform(seed=2)))\n",
    "model.add(BatchNormalization())\n",
    "model.add(Dropout(0.1))\n",
    "model.add(Dense(1, activation='sigmoid', kernel_initializer=tf.keras.initializers.glorot_uniform(seed=2)))  # Output layer (adjust based on your task)"
   ]
  },
  {
   "cell_type": "code",
   "execution_count": 177,
   "id": "380d6ac0-ac2d-446e-8d5b-5f0456fa002e",
   "metadata": {},
   "outputs": [],
   "source": [
    "model.compile(optimizer=Adam(), \n",
    "              loss='binary_crossentropy',  # or 'categorical_crossentropy', etc.\n",
    "              metrics=['accuracy'])"
   ]
  },
  {
   "cell_type": "code",
   "execution_count": 178,
   "id": "e1e986b0-b5b8-411c-8036-03e304259fd2",
   "metadata": {},
   "outputs": [],
   "source": [
    "early_stopping = EarlyStopping(monitor='val_loss', patience=5)"
   ]
  },
  {
   "cell_type": "code",
   "execution_count": 179,
   "id": "ebf28cb6-7e9f-4b3f-9866-e4aac69efa61",
   "metadata": {},
   "outputs": [
    {
     "name": "stdout",
     "output_type": "stream",
     "text": [
      "Epoch 1/100\n",
      "156/156 [==============================] - 2s 5ms/step - loss: 0.5684 - accuracy: 0.7104 - val_loss: 0.4753 - val_accuracy: 0.7772\n",
      "Epoch 2/100\n",
      "156/156 [==============================] - 1s 3ms/step - loss: 0.4751 - accuracy: 0.7613 - val_loss: 0.4243 - val_accuracy: 0.7997\n",
      "Epoch 3/100\n",
      "156/156 [==============================] - 1s 3ms/step - loss: 0.4539 - accuracy: 0.7760 - val_loss: 0.4183 - val_accuracy: 0.7925\n",
      "Epoch 4/100\n",
      "156/156 [==============================] - 1s 3ms/step - loss: 0.4512 - accuracy: 0.7826 - val_loss: 0.4036 - val_accuracy: 0.8029\n",
      "Epoch 5/100\n",
      "156/156 [==============================] - 1s 3ms/step - loss: 0.4387 - accuracy: 0.7898 - val_loss: 0.3983 - val_accuracy: 0.8101\n",
      "Epoch 6/100\n",
      "156/156 [==============================] - 1s 3ms/step - loss: 0.4299 - accuracy: 0.7920 - val_loss: 0.4032 - val_accuracy: 0.8013\n",
      "Epoch 7/100\n",
      "156/156 [==============================] - 1s 3ms/step - loss: 0.4344 - accuracy: 0.7862 - val_loss: 0.3963 - val_accuracy: 0.8101\n",
      "Epoch 8/100\n",
      "156/156 [==============================] - 1s 3ms/step - loss: 0.4312 - accuracy: 0.7904 - val_loss: 0.4010 - val_accuracy: 0.8037\n",
      "Epoch 9/100\n",
      "156/156 [==============================] - 1s 3ms/step - loss: 0.4269 - accuracy: 0.7928 - val_loss: 0.3952 - val_accuracy: 0.8093\n",
      "Epoch 10/100\n",
      "156/156 [==============================] - 1s 3ms/step - loss: 0.4216 - accuracy: 0.7982 - val_loss: 0.3948 - val_accuracy: 0.8069\n",
      "Epoch 11/100\n",
      "156/156 [==============================] - 1s 3ms/step - loss: 0.4189 - accuracy: 0.7978 - val_loss: 0.3963 - val_accuracy: 0.8133\n",
      "Epoch 12/100\n",
      "156/156 [==============================] - 1s 3ms/step - loss: 0.4252 - accuracy: 0.7836 - val_loss: 0.3934 - val_accuracy: 0.8165\n",
      "Epoch 13/100\n",
      "156/156 [==============================] - 1s 3ms/step - loss: 0.4137 - accuracy: 0.7974 - val_loss: 0.3918 - val_accuracy: 0.8085\n",
      "Epoch 14/100\n",
      "156/156 [==============================] - 1s 3ms/step - loss: 0.4157 - accuracy: 0.8014 - val_loss: 0.3969 - val_accuracy: 0.7949\n",
      "Epoch 15/100\n",
      "156/156 [==============================] - 1s 3ms/step - loss: 0.4118 - accuracy: 0.7988 - val_loss: 0.3968 - val_accuracy: 0.8157\n",
      "Epoch 16/100\n",
      "156/156 [==============================] - 1s 3ms/step - loss: 0.4188 - accuracy: 0.7976 - val_loss: 0.3916 - val_accuracy: 0.8189\n",
      "Epoch 17/100\n",
      "156/156 [==============================] - 1s 4ms/step - loss: 0.4094 - accuracy: 0.8068 - val_loss: 0.3879 - val_accuracy: 0.8109\n",
      "Epoch 18/100\n",
      "156/156 [==============================] - 1s 3ms/step - loss: 0.4136 - accuracy: 0.7988 - val_loss: 0.3894 - val_accuracy: 0.8181\n",
      "Epoch 19/100\n",
      "156/156 [==============================] - 1s 3ms/step - loss: 0.4155 - accuracy: 0.8002 - val_loss: 0.3904 - val_accuracy: 0.8149\n",
      "Epoch 20/100\n",
      "156/156 [==============================] - 1s 3ms/step - loss: 0.4085 - accuracy: 0.8026 - val_loss: 0.3893 - val_accuracy: 0.8101\n",
      "Epoch 21/100\n",
      "156/156 [==============================] - 1s 3ms/step - loss: 0.4072 - accuracy: 0.8048 - val_loss: 0.3870 - val_accuracy: 0.8141\n",
      "Epoch 22/100\n",
      "156/156 [==============================] - 1s 3ms/step - loss: 0.4133 - accuracy: 0.8028 - val_loss: 0.3849 - val_accuracy: 0.8157\n",
      "Epoch 23/100\n",
      "156/156 [==============================] - 1s 3ms/step - loss: 0.4065 - accuracy: 0.8046 - val_loss: 0.3860 - val_accuracy: 0.8125\n",
      "Epoch 24/100\n",
      "156/156 [==============================] - 1s 4ms/step - loss: 0.4092 - accuracy: 0.8032 - val_loss: 0.3899 - val_accuracy: 0.8109\n",
      "Epoch 25/100\n",
      "156/156 [==============================] - 1s 3ms/step - loss: 0.4083 - accuracy: 0.8060 - val_loss: 0.3934 - val_accuracy: 0.8125\n",
      "Epoch 26/100\n",
      "156/156 [==============================] - 1s 3ms/step - loss: 0.4052 - accuracy: 0.8072 - val_loss: 0.3922 - val_accuracy: 0.8197\n",
      "Epoch 27/100\n",
      "156/156 [==============================] - 1s 3ms/step - loss: 0.4043 - accuracy: 0.8076 - val_loss: 0.3916 - val_accuracy: 0.8221\n"
     ]
    },
    {
     "data": {
      "text/plain": [
       "<keras.src.callbacks.History at 0x2ba0b86c3d0>"
      ]
     },
     "execution_count": 179,
     "metadata": {},
     "output_type": "execute_result"
    }
   ],
   "source": [
    "model.fit(X_train, y_train, epochs=100, batch_size=32, validation_split=0.2, callbacks=[early_stopping])"
   ]
  },
  {
   "cell_type": "code",
   "execution_count": 180,
   "id": "3a6f12ed-5b1b-4e33-9f15-afad602922b3",
   "metadata": {},
   "outputs": [
    {
     "name": "stdout",
     "output_type": "stream",
     "text": [
      "22/22 [==============================] - 0s 2ms/step\n"
     ]
    }
   ],
   "source": [
    "y_pred = model.predict(X_test)"
   ]
  },
  {
   "cell_type": "code",
   "execution_count": 181,
   "id": "060fdaa5-68cf-401f-b5f1-6ab12bbe7d4a",
   "metadata": {},
   "outputs": [],
   "source": [
    "y_pred = y_pred[:,0]"
   ]
  },
  {
   "cell_type": "code",
   "execution_count": 182,
   "id": "2b3d531b-87eb-4a4a-b864-62ceb2194659",
   "metadata": {},
   "outputs": [
    {
     "data": {
      "text/plain": [
       "0.9068729037144307"
      ]
     },
     "execution_count": 182,
     "metadata": {},
     "output_type": "execute_result"
    }
   ],
   "source": [
    "roc_auc_score(y_test, y_pred)"
   ]
  },
  {
   "cell_type": "code",
   "execution_count": 183,
   "id": "16cea582-5953-4720-bd8c-3931dac2e7be",
   "metadata": {},
   "outputs": [],
   "source": [
    "y_pred = (y_pred>0.5).astype(int)"
   ]
  },
  {
   "cell_type": "code",
   "execution_count": 184,
   "id": "f8dbbd94-b05e-4d7a-b726-c753f89aa4ba",
   "metadata": {},
   "outputs": [
    {
     "name": "stdout",
     "output_type": "stream",
     "text": [
      "[[305  58]\n",
      " [ 63 268]]\n"
     ]
    }
   ],
   "source": [
    "print(confusion_matrix(y_test,y_pred))"
   ]
  },
  {
   "cell_type": "code",
   "execution_count": 185,
   "id": "c610a63a-7bbe-4203-b328-c7cbc64bf6d9",
   "metadata": {},
   "outputs": [
    {
     "name": "stdout",
     "output_type": "stream",
     "text": [
      "              precision    recall  f1-score   support\n",
      "\n",
      "           0       0.83      0.84      0.83       363\n",
      "           1       0.82      0.81      0.82       331\n",
      "\n",
      "    accuracy                           0.83       694\n",
      "   macro avg       0.83      0.82      0.83       694\n",
      "weighted avg       0.83      0.83      0.83       694\n",
      "\n"
     ]
    }
   ],
   "source": [
    "print(classification_report(y_test,y_pred))"
   ]
  },
  {
   "cell_type": "code",
   "execution_count": 186,
   "id": "842c9c4b-660b-47e1-b042-9491d86e86ba",
   "metadata": {},
   "outputs": [
    {
     "data": {
      "text/plain": [
       "0.8256484149855908"
      ]
     },
     "execution_count": 186,
     "metadata": {},
     "output_type": "execute_result"
    }
   ],
   "source": [
    "accuracy_score(y_test, y_pred)"
   ]
  },
  {
   "cell_type": "code",
   "execution_count": null,
   "id": "88952122-3486-46d0-bf05-1fc0719da51b",
   "metadata": {},
   "outputs": [],
   "source": []
  },
  {
   "cell_type": "code",
   "execution_count": null,
   "id": "755ff2ef-34c1-4823-8f7d-d8cc1d8c7fe1",
   "metadata": {},
   "outputs": [],
   "source": []
  }
 ],
 "metadata": {
  "kernelspec": {
   "display_name": "Python (kaggle_env)",
   "language": "python",
   "name": "kaggle_env"
  },
  "language_info": {
   "codemirror_mode": {
    "name": "ipython",
    "version": 3
   },
   "file_extension": ".py",
   "mimetype": "text/x-python",
   "name": "python",
   "nbconvert_exporter": "python",
   "pygments_lexer": "ipython3",
   "version": "3.10.13"
  }
 },
 "nbformat": 4,
 "nbformat_minor": 5
}
