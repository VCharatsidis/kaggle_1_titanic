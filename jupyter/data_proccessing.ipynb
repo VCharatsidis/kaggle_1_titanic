{
 "cells": [
  {
   "cell_type": "code",
   "execution_count": 29,
   "id": "55c715f0",
   "metadata": {},
   "outputs": [],
   "source": [
    "import pandas as pd"
   ]
  },
  {
   "cell_type": "code",
   "execution_count": 30,
   "id": "4abfaffc-6474-4d58-b66b-f981f1966de8",
   "metadata": {},
   "outputs": [],
   "source": [
    "df = pd.read_csv('../spaceship-titanic/train.csv')"
   ]
  },
  {
   "cell_type": "code",
   "execution_count": 31,
   "id": "739b3fee-875a-4244-af7f-43b37fecd860",
   "metadata": {},
   "outputs": [],
   "source": [
    "df_test = pd.read_csv('../spaceship-titanic/test.csv')"
   ]
  },
  {
   "cell_type": "code",
   "execution_count": 63,
   "id": "1e6c7fad-f9f7-4474-bc0e-0e7b5a3ed5fb",
   "metadata": {},
   "outputs": [],
   "source": [
    "def process_df(df):\n",
    "    df = drop_rows(df, 'Cabin')\n",
    "    df['Cabin_1'] = df.Cabin.apply(lambda x: x.split('/')[0])\n",
    "    df['Cabin_2'] = df.Cabin.apply(lambda x: x.split('/')[2])\n",
    "    df = drop_rows(df, 'VIP')\n",
    "    df = drop_rows(df, 'CryoSleep')\n",
    "    df = df.drop(['PassengerId', 'Name', 'Cabin'], axis=1)\n",
    "    df.CryoSleep = df.CryoSleep.apply(lambda x: int(x))\n",
    "    df.VIP = df.VIP.apply(lambda x: int(x))\n",
    "    df.HomePlanet = df.HomePlanet.fillna('Other')\n",
    "    df_proccessed = pd.concat([df, pd.get_dummies(df[['HomePlanet', 'Destination', 'Cabin_1', 'Cabin_2']])], axis=1)\n",
    "    df_proccessed = df_proccessed.drop(['HomePlanet', 'Destination', 'Cabin_1', 'Cabin_2'], axis=1)\n",
    "    columns = ['HomePlanet_Earth', 'HomePlanet_Europa', 'HomePlanet_Mars',\n",
    "       'HomePlanet_Other', 'Destination_55 Cancri e',\n",
    "       'Destination_PSO J318.5-22', 'Destination_TRAPPIST-1e',\n",
    "       'Cabin_1_A', 'Cabin_1_B', 'Cabin_1_C', 'Cabin_1_D', 'Cabin_1_E',\n",
    "       'Cabin_1_F', 'Cabin_1_G', 'Cabin_1_T', 'Cabin_2_P', 'Cabin_2_S']\n",
    "    for col in columns:\n",
    "        df_proccessed[col] = df_proccessed[col].apply(lambda x: int(x))\n",
    "    df_final = df_proccessed.dropna().reset_index(drop=True)\n",
    "    return df_final"
   ]
  },
  {
   "cell_type": "code",
   "execution_count": 33,
   "id": "51aa71dc-0610-458c-af9c-a17568133108",
   "metadata": {},
   "outputs": [],
   "source": [
    "def drop_rows(df, column_name):\n",
    "    ind = df[column_name].dropna().index\n",
    "    df = df.iloc[ind].reset_index(drop=True)\n",
    "    return df"
   ]
  },
  {
   "cell_type": "code",
   "execution_count": 62,
   "id": "b03da613-ceb4-4140-bb62-fbaf29456d1e",
   "metadata": {},
   "outputs": [],
   "source": [
    "df_final.to_csv('proccessed_train_data.csv', index=False)\n",
    "df_test_final.to_csv('proccessed_test_data.csv', index=False)"
   ]
  },
  {
   "cell_type": "code",
   "execution_count": null,
   "id": "42ead900-2468-4c13-9270-831359719c37",
   "metadata": {},
   "outputs": [],
   "source": []
  },
  {
   "cell_type": "code",
   "execution_count": null,
   "id": "198350f3-163b-408c-aa41-795da5fa9394",
   "metadata": {},
   "outputs": [],
   "source": []
  }
 ],
 "metadata": {
  "kernelspec": {
   "display_name": "Python (kaggle_env)",
   "language": "python",
   "name": "kaggle_env"
  },
  "language_info": {
   "codemirror_mode": {
    "name": "ipython",
    "version": 3
   },
   "file_extension": ".py",
   "mimetype": "text/x-python",
   "name": "python",
   "nbconvert_exporter": "python",
   "pygments_lexer": "ipython3",
   "version": "3.10.13"
  }
 },
 "nbformat": 4,
 "nbformat_minor": 5
}
